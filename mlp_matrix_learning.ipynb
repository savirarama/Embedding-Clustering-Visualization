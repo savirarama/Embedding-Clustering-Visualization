{
 "cells": [
  {
   "cell_type": "markdown",
   "id": "6638df60",
   "metadata": {},
   "source": [
    "# MLP Matrix Learning\n",
    "This notebook trains a multi-layer perception network using triplet margin loss to understand similar commits, using embeddings of commits as training data and input."
   ]
  },
  {
   "cell_type": "markdown",
   "id": "9b838e45",
   "metadata": {},
   "source": [
    "# Load the data"
   ]
  },
  {
   "cell_type": "code",
   "execution_count": 23,
   "id": "33d20b32",
   "metadata": {},
   "outputs": [],
   "source": [
    "import numpy as np \n",
    "\n",
    "train_embeddings_path = 'embedding/triplet_train_embeddings.npy'\n",
    "train_embeddings = np.load(train_embeddings_path, allow_pickle=True)\n",
    "anchors = train_embeddings[0:3]\n",
    "positive = train_embeddings[3:6]\n",
    "negative = train_embeddings[6:9]\n"
   ]
  },
  {
   "cell_type": "markdown",
   "id": "64cf952c",
   "metadata": {},
   "source": [
    "## Create training dataset"
   ]
  },
  {
   "cell_type": "code",
   "execution_count": 24,
   "id": "0e21ba71",
   "metadata": {},
   "outputs": [],
   "source": [
    "import torch\n",
    "from torch.utils.data import Dataset, DataLoader\n",
    "import torch.nn as nn\n",
    "\n",
    "\n",
    "class TripleCommitDataset(Dataset):\n",
    "    def __init__(self, anchors, positive, negative):\n",
    "        self.anchors = anchors\n",
    "        self.positive = positive\n",
    "        self.negative = negative\n",
    "\n",
    "    def __len__(self):\n",
    "        return len(self.anchors)\n",
    "\n",
    "    def __getitem__(self, idx):\n",
    "        anchor = self.anchors[idx]\n",
    "        pos = self.positive[idx]\n",
    "        neg = self.negative[idx]\n",
    "        return anchor, pos, neg\n",
    "    \n",
    "dataset = TripleCommitDataset(anchors, positive, negative)\n",
    "dataloader = DataLoader(dataset, batch_size=3, shuffle=True)"
   ]
  },
  {
   "cell_type": "markdown",
   "id": "eb99903f",
   "metadata": {},
   "source": [
    "## Define MLP"
   ]
  },
  {
   "cell_type": "code",
   "execution_count": 25,
   "id": "288b6999",
   "metadata": {},
   "outputs": [],
   "source": [
    "class MLPEmbedding(nn.Module):\n",
    "    def __init__(self, input_dim=768, output_dim=64):\n",
    "        super().__init__()\n",
    "        self.net = nn.Sequential(\n",
    "                    nn.Linear(768, 512),\n",
    "                    nn.BatchNorm1d(512),\n",
    "                    nn.ReLU(),\n",
    "                    nn.Linear(512, 256),\n",
    "                    nn.BatchNorm1d(256),\n",
    "                    nn.ReLU(),\n",
    "                    nn.Linear(256, 64)\n",
    "                )\n",
    "    def forward(self, x):\n",
    "        return self.net(x)\n",
    "    \n",
    "model = MLPEmbedding(768, 64)"
   ]
  },
  {
   "cell_type": "markdown",
   "id": "bfdabd57",
   "metadata": {},
   "source": [
    "## Setup Optimiser and Loss"
   ]
  },
  {
   "cell_type": "code",
   "execution_count": 26,
   "id": "4336404a",
   "metadata": {},
   "outputs": [],
   "source": [
    "optimizer = torch.optim.Adam(model.parameters(), lr=0.001)\n",
    "triplet_loss = nn.TripletMarginLoss(margin=1.0)"
   ]
  },
  {
   "cell_type": "markdown",
   "id": "6c35e0ed",
   "metadata": {},
   "source": [
    "## Train the MLP"
   ]
  },
  {
   "cell_type": "code",
   "execution_count": 27,
   "id": "467e8b89",
   "metadata": {},
   "outputs": [
    {
     "name": "stdout",
     "output_type": "stream",
     "text": [
      "Epoch 1/10, Loss: 1.9232\n",
      "Epoch 2/10, Loss: 1.2317\n",
      "Epoch 3/10, Loss: 0.3430\n",
      "Epoch 4/10, Loss: 0.0424\n",
      "Epoch 5/10, Loss: 0.0000\n",
      "Epoch 6/10, Loss: 0.0000\n",
      "Epoch 7/10, Loss: 0.0781\n",
      "Epoch 8/10, Loss: 0.0443\n",
      "Epoch 9/10, Loss: 0.0000\n",
      "Epoch 10/10, Loss: 0.0000\n"
     ]
    }
   ],
   "source": [
    "epochs = 10\n",
    "for epoch in range(epochs):\n",
    "    model.train()\n",
    "    total_loss = 0.0\n",
    "    for anchor, positive, negative in dataloader:\n",
    "        optimizer.zero_grad()\n",
    "        \n",
    "        anchor_out = model(anchor)\n",
    "        positive_out = model(positive)\n",
    "        negative_out = model(negative)\n",
    "        \n",
    "        loss_value = triplet_loss(anchor_out, positive_out, negative_out)\n",
    "        loss_value.backward()\n",
    "        optimizer.step()\n",
    "        \n",
    "        total_loss += loss_value.item()\n",
    "    print(f\"Epoch {epoch+1}/{epochs}, Loss: {total_loss:.4f}\")"
   ]
  },
  {
   "cell_type": "markdown",
   "id": "34e7e158",
   "metadata": {},
   "source": [
    "## Load Test Data\n",
    "test_embeddings_path = 'embedding/embeddings.npy'\n",
    "test_embeddings = np.load(train_embeddings_path, allow_pickle=True)"
   ]
  },
  {
   "cell_type": "code",
   "execution_count": null,
   "id": "1785942e",
   "metadata": {},
   "outputs": [],
   "source": []
  }
 ],
 "metadata": {
  "kernelspec": {
   "display_name": ".venv",
   "language": "python",
   "name": "python3"
  },
  "language_info": {
   "codemirror_mode": {
    "name": "ipython",
    "version": 3
   },
   "file_extension": ".py",
   "mimetype": "text/x-python",
   "name": "python",
   "nbconvert_exporter": "python",
   "pygments_lexer": "ipython3",
   "version": "3.12.3"
  }
 },
 "nbformat": 4,
 "nbformat_minor": 5
}
